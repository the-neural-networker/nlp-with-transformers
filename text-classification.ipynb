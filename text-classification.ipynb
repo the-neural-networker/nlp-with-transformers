{
 "cells": [
  {
   "cell_type": "code",
   "execution_count": 3,
   "metadata": {},
   "outputs": [
    {
     "name": "stdout",
     "output_type": "stream",
     "text": [
      "There are 55922 datasets currently available on the Hub\n",
      "The first 10 are: [DatasetInfo: { \n",
      "  {'_id': '621ffdd236468d709f181d58',\n",
      "   'author': None,\n",
      "   'cardData': None,\n",
      "   'citation': '@inproceedings{veyseh-et-al-2020-what,\\n'\n",
      "               '   title={{What Does This Acronym Mean? Introducing a New Dataset for Acronym Identification and '\n",
      "               'Disambiguation}},\\n'\n",
      "               '   author={Amir Pouran Ben Veyseh and Franck Dernoncourt and Quan Hung Tran and Thien Huu Nguyen},\\n'\n",
      "               '   year={2020},\\n'\n",
      "               '   booktitle={Proceedings of COLING},\\n'\n",
      "               '   link={https://arxiv.org/pdf/2010.14678v1.pdf}\\n'\n",
      "               '}',\n",
      "   'description': 'Acronym identification training and development sets for the acronym identification task at '\n",
      "                  'SDU@AAAI-21.',\n",
      "   'disabled': False,\n",
      "   'downloads': 3583,\n",
      "   'gated': False,\n",
      "   'id': 'acronym_identification',\n",
      "   'lastModified': '2023-01-25T14:18:28.000Z',\n",
      "   'likes': 17,\n",
      "   'paperswithcode_id': 'acronym-identification',\n",
      "   'private': False,\n",
      "   'sha': 'c3c245a18bbd57b1682b099e14460eebf154cbdf',\n",
      "   'siblings': [],\n",
      "   'tags': ['task_categories:token-classification', 'annotations_creators:expert-generated', 'language_creators:found',\n",
      "            'multilinguality:monolingual', 'size_categories:10K<n<100K', 'source_datasets:original', 'language:en',\n",
      "            'license:mit', 'acronym-identification', 'arxiv:2010.14678', 'region:us']}\n",
      "}, DatasetInfo: { \n",
      "  {'_id': '621ffdd236468d709f181d59',\n",
      "   'author': None,\n",
      "   'cardData': None,\n",
      "   'citation': '@article{GURULINGAPPA2012885,\\n'\n",
      "               'title = \"Development of a benchmark corpus to support the automatic extraction of drug-related adverse '\n",
      "               'effects from medical case reports\",\\n'\n",
      "               'journal = \"Journal of Biomedical Informatics\",\\n'\n",
      "               'volume = \"45\",\\n'\n",
      "               'number = \"5\",\\n'\n",
      "               'pages = \"885 - 892\",\\n'\n",
      "               'year = \"2012\",\\n'\n",
      "               'note = \"Text Mining and Natural Language Processing in Pharmacogenomics\",\\n'\n",
      "               'issn = \"1532-0464\",\\n'\n",
      "               'doi = \"https://doi.org/10.1016/j.jbi.2012.04.008\",\\n'\n",
      "               'url = \"http://www.sciencedirect.com/science/article/pii/S1532046412000615\",\\n'\n",
      "               'author = \"Harsha Gurulingappa and Abdul Mateen Rajput and Angus Roberts and Juliane Fluck and Martin '\n",
      "               'Hofmann-Apitius and Luca Toldo\",\\n'\n",
      "               'keywords = \"Adverse drug effect, Benchmark corpus, Annotation, Harmonization, Sentence '\n",
      "               'classification\",\\n'\n",
      "               'abstract = \"A significant amount of information about drug-related safety issues such as adverse '\n",
      "               'effects are published in medical case reports that can only be explored by human readers due to their '\n",
      "               'unstructured nature. The work presented here aims at generating a systematically annotated corpus that '\n",
      "               'can support the development and validation of methods for the automatic extraction of drug-related '\n",
      "               'adverse effects from medical case reports. The documents are systematically double annotated in various '\n",
      "               'rounds to ensure consistent annotations. The annotated documents are finally harmonized to generate '\n",
      "               'representative consensus annotations. In order to demonstrate an example use case scenario, the corpus '\n",
      "               'was employed to train and validate models for the classification of informative against the '\n",
      "               'non-informative sentences. A Maximum Entropy classifier trained with simple features and evaluated by '\n",
      "               '10-fold cross-validation resulted in the F1 score of 0.70 indicating a potential useful application of '\n",
      "               'the corpus.\"\\n'\n",
      "               '}',\n",
      "   'description': ' ADE-Corpus-V2  Dataset: Adverse Drug Reaction Data.\\n'\n",
      "                  ' This is a dataset for Classification if a sentence is ADE-related (True) or not (False) and '\n",
      "                  'Relation Extraction between Adverse Drug Event and Drug.\\n'\n",
      "                  ' DRUG-AE.rel provides relations between drugs and adverse effects.\\n'\n",
      "                  ' DRUG-DOSE.rel provides relations between drugs and dosages.\\n'\n",
      "                  ' ADE-NEG.txt provides all sentences in the ADE corpus that DO NOT contain any drug-related adverse '\n",
      "                  'effects.',\n",
      "   'disabled': False,\n",
      "   'downloads': 3980,\n",
      "   'gated': False,\n",
      "   'id': 'ade_corpus_v2',\n",
      "   'lastModified': '2023-06-01T14:59:53.000Z',\n",
      "   'likes': 15,\n",
      "   'private': False,\n",
      "   'sha': '080cf99e1483008322d612c7262c04c8902fdbee',\n",
      "   'siblings': [],\n",
      "   'tags': ['task_categories:text-classification', 'task_categories:token-classification',\n",
      "            'task_ids:coreference-resolution', 'task_ids:fact-checking', 'annotations_creators:expert-generated',\n",
      "            'language_creators:found', 'multilinguality:monolingual', 'size_categories:10K<n<100K',\n",
      "            'size_categories:1K<n<10K', 'size_categories:n<1K', 'source_datasets:original', 'language:en',\n",
      "            'license:unknown', 'region:us']}\n",
      "}, DatasetInfo: { \n",
      "  {'_id': '621ffdd236468d709f181d5a',\n",
      "   'author': None,\n",
      "   'cardData': None,\n",
      "   'citation': '@article{bartolo2020beat,\\n'\n",
      "               '    author = {Bartolo, Max and Roberts, Alastair and Welbl, Johannes and Riedel, Sebastian and '\n",
      "               'Stenetorp, Pontus},\\n'\n",
      "               '    title = {Beat the AI: Investigating Adversarial Human Annotation for Reading Comprehension},\\n'\n",
      "               '    journal = {Transactions of the Association for Computational Linguistics},\\n'\n",
      "               '    volume = {8},\\n'\n",
      "               '    number = {},\\n'\n",
      "               '    pages = {662-678},\\n'\n",
      "               '    year = {2020},\\n'\n",
      "               '    doi = {10.1162/tacl_a_00338},\\n'\n",
      "               '    URL = { https://doi.org/10.1162/tacl_a_00338 },\\n'\n",
      "               '    eprint = { https://doi.org/10.1162/tacl_a_00338 },\\n'\n",
      "               '    abstract = { Innovations in annotation methodology have been a catalyst for Reading Comprehension '\n",
      "               '(RC) datasets and models. One recent trend to challenge current RC models is to involve a model in the '\n",
      "               'annotation process: Humans create questions adversarially, such that the model fails to answer them '\n",
      "               'correctly. In this work we investigate this annotation methodology and apply it in three different '\n",
      "               'settings, collecting a total of 36,000 samples with progressively stronger models in the annotation '\n",
      "               'loop. This allows us to explore questions such as the reproducibility of the adversarial effect, '\n",
      "               'transfer from data collected with varying model-in-the-loop strengths, and generalization to data '\n",
      "               'collected without a model. We find that training on adversarially collected samples leads to strong '\n",
      "               'generalization to non-adversarially collected datasets, yet with progressive performance deterioration '\n",
      "               'with increasingly stronger models-in-the-loop. Furthermore, we find that stronger models can still '\n",
      "               'learn from datasets collected with substantially weaker models-in-the-loop. When trained on data '\n",
      "               'collected with a BiDAF model in the loop, RoBERTa achieves 39.9F1 on questions that it cannot answer '\n",
      "               'when trained on SQuAD—only marginally lower than when trained on data collected using RoBERTa itself '\n",
      "               '(41.0F1). }\\n'\n",
      "               '}',\n",
      "   'description': 'AdversarialQA is a Reading Comprehension dataset, consisting of questions posed by crowdworkers on a '\n",
      "                  'set of Wikipedia articles using an adversarial model-in-the-loop.\\n'\n",
      "                  'We use three different models; BiDAF (Seo et al., 2016), BERT-Large (Devlin et al., 2018), and '\n",
      "                  'RoBERTa-Large (Liu et al., 2019) in the annotation loop and construct three datasets; D(BiDAF), '\n",
      "                  'D(BERT), and D(RoBERTa), each with 10,000 training examples, 1,000 validation, and 1,000 test '\n",
      "                  'examples.\\n'\n",
      "                  'The adversarial human annotation paradigm ensures that these datasets consist of questions that '\n",
      "                  'current state-of-the-art models (at least the ones used as adversaries in the annotation loop) find '\n",
      "                  'challenging.',\n",
      "   'disabled': False,\n",
      "   'downloads': 8180,\n",
      "   'gated': False,\n",
      "   'id': 'adversarial_qa',\n",
      "   'lastModified': '2022-11-18T17:31:37.000Z',\n",
      "   'likes': 27,\n",
      "   'paperswithcode_id': 'adversarialqa',\n",
      "   'private': False,\n",
      "   'sha': '2101a4597c2b5517902e2eef903c47b2caedacd8',\n",
      "   'siblings': [],\n",
      "   'tags': ['task_categories:question-answering', 'task_ids:extractive-qa', 'task_ids:open-domain-qa',\n",
      "            'annotations_creators:crowdsourced', 'language_creators:found', 'multilinguality:monolingual',\n",
      "            'size_categories:10K<n<100K', 'source_datasets:original', 'language:en', 'license:cc-by-sa-4.0',\n",
      "            'arxiv:2002.00293', 'arxiv:1606.05250', 'region:us']}\n",
      "}, DatasetInfo: { \n",
      "  {'_id': '621ffdd236468d709f181d5b',\n",
      "   'author': None,\n",
      "   'cardData': None,\n",
      "   'citation': '@misc{zhang2019email,\\n'\n",
      "               '    title={This Email Could Save Your Life: Introducing the Task of Email Subject Line Generation},\\n'\n",
      "               '    author={Rui Zhang and Joel Tetreault},\\n'\n",
      "               '    year={2019},\\n'\n",
      "               '    eprint={1906.03497},\\n'\n",
      "               '    archivePrefix={arXiv},\\n'\n",
      "               '    primaryClass={cs.CL}\\n'\n",
      "               '}',\n",
      "   'description': 'A collection of email messages of employees in the Enron Corporation.\\n'\n",
      "                  '\\n'\n",
      "                  'There are two features:\\n'\n",
      "                  '  - email_body: email body text.\\n'\n",
      "                  '  - subject_line: email subject text.',\n",
      "   'disabled': False,\n",
      "   'downloads': 2000,\n",
      "   'gated': False,\n",
      "   'id': 'aeslc',\n",
      "   'lastModified': '2023-04-05T08:32:58.000Z',\n",
      "   'likes': 4,\n",
      "   'paperswithcode_id': 'aeslc',\n",
      "   'private': False,\n",
      "   'sha': '28d4d3a046750bf18995a77dfb9f5f082fe837f6',\n",
      "   'siblings': [],\n",
      "   'tags': ['task_categories:summarization', 'annotations_creators:crowdsourced', 'language_creators:found',\n",
      "            'multilinguality:monolingual', 'size_categories:10K<n<100K', 'source_datasets:original', 'language:en',\n",
      "            'license:unknown', 'aspect-based-summarization', 'conversations-summarization',\n",
      "            'multi-document-summarization', 'email-headline-generation', 'arxiv:1906.03497', 'region:us']}\n",
      "}, DatasetInfo: { \n",
      "  {'_id': '621ffdd236468d709f181d5c',\n",
      "   'author': None,\n",
      "   'cardData': None,\n",
      "   'citation': '@inproceedings{afrikaans_ner_corpus,\\n'\n",
      "               '  author    = {\\tGerhard van Huyssteen and\\n'\n",
      "               '                Martin Puttkammer and\\n'\n",
      "               '                E.B. Trollip and\\n'\n",
      "               '                J.C. Liversage and\\n'\n",
      "               '              Roald Eiselen},\\n'\n",
      "               '  title     = {NCHLT Afrikaans Named Entity Annotated Corpus},\\n'\n",
      "               '  booktitle = {Eiselen, R. 2016. Government domain named entity recognition for South African '\n",
      "               'languages. Proceedings of the 10th      Language Resource and Evaluation Conference, Portorož, '\n",
      "               'Slovenia.},\\n'\n",
      "               '  year      = {2016},\\n'\n",
      "               '  url       = {https://repo.sadilar.org/handle/20.500.12185/299},\\n'\n",
      "               '}',\n",
      "   'description': 'Named entity annotated data from the NCHLT Text Resource Development: Phase II Project, annotated '\n",
      "                  'with PERSON, LOCATION, ORGANISATION and MISCELLANEOUS tags.',\n",
      "   'disabled': False,\n",
      "   'downloads': 414,\n",
      "   'gated': False,\n",
      "   'id': 'afrikaans_ner_corpus',\n",
      "   'lastModified': '2023-01-25T14:20:30.000Z',\n",
      "   'likes': 3,\n",
      "   'private': False,\n",
      "   'sha': '58eb3b7ec689e17d42ffd858b8e514cbd0ffbc7f',\n",
      "   'siblings': [],\n",
      "   'tags': ['task_categories:token-classification', 'task_ids:named-entity-recognition',\n",
      "            'annotations_creators:expert-generated', 'language_creators:expert-generated', 'multilinguality:monolingual',\n",
      "            'size_categories:1K<n<10K', 'source_datasets:original', 'language:af', 'license:other', 'region:us']}\n",
      "}, DatasetInfo: { \n",
      "  {'_id': '621ffdd236468d709f181d5d',\n",
      "   'author': None,\n",
      "   'cardData': None,\n",
      "   'citation': '@inproceedings{Zhang2015CharacterlevelCN,\\n'\n",
      "               '  title={Character-level Convolutional Networks for Text Classification},\\n'\n",
      "               '  author={Xiang Zhang and Junbo Jake Zhao and Yann LeCun},\\n'\n",
      "               '  booktitle={NIPS},\\n'\n",
      "               '  year={2015}\\n'\n",
      "               '}',\n",
      "   'description': 'AG is a collection of more than 1 million news articles. News articles have been\\n'\n",
      "                  'gathered from more than 2000 news sources by ComeToMyHead in more than 1 year of\\n'\n",
      "                  'activity. ComeToMyHead is an academic news search engine which has been running\\n'\n",
      "                  'since July, 2004. The dataset is provided by the academic comunity for research\\n'\n",
      "                  'purposes in data mining (clustering, classification, etc), information retrieval\\n'\n",
      "                  '(ranking, search, etc), xml, data compression, data streaming, and any other\\n'\n",
      "                  'non-commercial activity. For more information, please refer to the link\\n'\n",
      "                  'http://www.di.unipi.it/~gulli/AG_corpus_of_news_articles.html .\\n'\n",
      "                  '\\n'\n",
      "                  \"The AG's news topic classification dataset is constructed by Xiang Zhang\\n\"\n",
      "                  '(xiang.zhang@nyu.edu) from the dataset above. It is used as a text\\n'\n",
      "                  'classification benchmark in the following paper: Xiang Zhang, Junbo Zhao, Yann\\n'\n",
      "                  'LeCun. Character-level Convolutional Networks for Text Classification. Advances\\n'\n",
      "                  'in Neural Information Processing Systems 28 (NIPS 2015).',\n",
      "   'disabled': False,\n",
      "   'downloads': 30878,\n",
      "   'gated': False,\n",
      "   'id': 'ag_news',\n",
      "   'lastModified': '2023-04-05T08:34:57.000Z',\n",
      "   'likes': 63,\n",
      "   'paperswithcode_id': 'ag-news',\n",
      "   'private': False,\n",
      "   'sha': '3dcafdc56638659831698aaa2348334a5ab44513',\n",
      "   'siblings': [],\n",
      "   'tags': ['task_categories:text-classification', 'task_ids:topic-classification', 'annotations_creators:found',\n",
      "            'language_creators:found', 'multilinguality:monolingual', 'size_categories:100K<n<1M',\n",
      "            'source_datasets:original', 'language:en', 'license:unknown', 'region:us']}\n",
      "}, DatasetInfo: { \n",
      "  {'_id': '621ffdd236468d709f181d5e',\n",
      "   'author': None,\n",
      "   'cardData': None,\n",
      "   'citation': '@article{allenai:arc,\\n'\n",
      "               '      author    = {Peter Clark  and Isaac Cowhey and Oren Etzioni and Tushar Khot and\\n'\n",
      "               '                    Ashish Sabharwal and Carissa Schoenick and Oyvind Tafjord},\\n'\n",
      "               '      title     = {Think you have Solved Question Answering? Try ARC, the AI2 Reasoning Challenge},\\n'\n",
      "               '      journal   = {arXiv:1803.05457v1},\\n'\n",
      "               '      year      = {2018},\\n'\n",
      "               '}',\n",
      "   'description': 'A new dataset of 7,787 genuine grade-school level, multiple-choice science questions, assembled to '\n",
      "                  'encourage research in\\n'\n",
      "                  ' advanced question-answering. The dataset is partitioned into a Challenge Set and an Easy Set, where '\n",
      "                  'the former contains\\n'\n",
      "                  ' only questions answered incorrectly by both a retrieval-based algorithm and a word co-occurrence '\n",
      "                  'algorithm. We are also\\n'\n",
      "                  ' including a corpus of over 14 million science sentences relevant to the task, and an implementation '\n",
      "                  'of three neural baseline models for this dataset. We pose ARC as a challenge to the community.',\n",
      "   'disabled': False,\n",
      "   'downloads': 174478,\n",
      "   'gated': False,\n",
      "   'id': 'ai2_arc',\n",
      "   'lastModified': '2023-04-05T09:11:00.000Z',\n",
      "   'likes': 20,\n",
      "   'private': False,\n",
      "   'sha': '870fda1dc455fb8aec468816fb61c29c602c21ba',\n",
      "   'siblings': [],\n",
      "   'tags': ['task_categories:question-answering', 'task_ids:open-domain-qa', 'task_ids:multiple-choice-qa',\n",
      "            'annotations_creators:found', 'language_creators:found', 'multilinguality:monolingual',\n",
      "            'size_categories:1K<n<10K', 'source_datasets:original', 'language:en', 'license:cc-by-sa-4.0', 'region:us']}\n",
      "}, DatasetInfo: { \n",
      "  {'_id': '621ffdd236468d709f181d5f',\n",
      "   'author': None,\n",
      "   'cardData': None,\n",
      "   'citation': '@inproceedings{wei-etal-2018-airdialogue,\\n'\n",
      "               '    title = \"{A}ir{D}ialogue: An Environment for Goal-Oriented Dialogue Research\",\\n'\n",
      "               '    author = \"Wei, Wei  and\\n'\n",
      "               '      Le, Quoc  and\\n'\n",
      "               '      Dai, Andrew  and\\n'\n",
      "               '      Li, Jia\",\\n'\n",
      "               '    booktitle = \"Proceedings of the 2018 Conference on Empirical Methods in Natural Language '\n",
      "               'Processing\",\\n'\n",
      "               '    month = oct # \"-\" # nov,\\n'\n",
      "               '    year = \"2018\",\\n'\n",
      "               '    address = \"Brussels, Belgium\",\\n'\n",
      "               '    publisher = \"Association for Computational Linguistics\",\\n'\n",
      "               '    url = \"https://www.aclweb.org/anthology/D18-1419\",\\n'\n",
      "               '    doi = \"10.18653/v1/D18-1419\",\\n'\n",
      "               '    pages = \"3844--3854\",\\n'\n",
      "               '    abstract = \"Recent progress in dialogue generation has inspired a number of studies on dialogue '\n",
      "               'systems that are capable of accomplishing tasks through natural language interactions. A promising '\n",
      "               'direction among these studies is the use of reinforcement learning techniques, such as self-play, for '\n",
      "               'training dialogue agents. However, current datasets are limited in size, and the environment for '\n",
      "               'training agents and evaluating progress is relatively unsophisticated. We present AirDialogue, a large '\n",
      "               'dataset that contains 301,427 goal-oriented conversations. To collect this dataset, we create a '\n",
      "               'context-generator which provides travel and flight restrictions. We then ask human annotators to play '\n",
      "               'the role of a customer or an agent and interact with the goal of successfully booking a trip given the '\n",
      "               'restrictions. Key to our environment is the ease of evaluating the success of the dialogue, which is '\n",
      "               'achieved by using ground-truth states (e.g., the flight being booked) generated by the restrictions. '\n",
      "               'Any dialogue agent that does not generate the correct states is considered to fail. Our experimental '\n",
      "               'results indicate that state-of-the-art dialogue models can only achieve a score of 0.17 while humans '\n",
      "               'can reach a score of 0.91, which suggests significant opportunities for future improvement.\",\\n'\n",
      "               '}',\n",
      "   'description': 'AirDialogue, is a large dataset that contains 402,038 goal-oriented conversations. To collect this '\n",
      "                  'dataset, we create a contextgenerator which provides travel and flight restrictions. Then the human '\n",
      "                  'annotators are asked to play the role of a customer or an agent and interact with the goal of '\n",
      "                  'successfully booking a trip given the restrictions.',\n",
      "   'disabled': False,\n",
      "   'downloads': 853,\n",
      "   'gated': False,\n",
      "   'id': 'air_dialogue',\n",
      "   'lastModified': '2022-11-03T16:31:11.000Z',\n",
      "   'likes': 5,\n",
      "   'private': False,\n",
      "   'sha': '3ef284c2b1ca63cebd46335641fa31b09763f4e5',\n",
      "   'siblings': [],\n",
      "   'tags': ['task_categories:conversational', 'task_categories:text-generation', 'task_categories:fill-mask',\n",
      "            'task_ids:dialogue-generation', 'task_ids:dialogue-modeling', 'task_ids:language-modeling',\n",
      "            'task_ids:masked-language-modeling', 'annotations_creators:crowdsourced',\n",
      "            'language_creators:machine-generated', 'multilinguality:monolingual', 'size_categories:100K<n<1M',\n",
      "            'source_datasets:original', 'language:en', 'license:cc-by-nc-4.0', 'region:us']}\n",
      "}, DatasetInfo: { \n",
      "  {'_id': '621ffdd236468d709f181d60',\n",
      "   'author': None,\n",
      "   'cardData': None,\n",
      "   'citation': '@inproceedings{alomari2017arabic,\\n'\n",
      "               '  title={Arabic tweets sentimental analysis using machine learning},\\n'\n",
      "               '  author={Alomari, Khaled Mohammad and ElSherif, Hatem M and Shaalan, Khaled},\\n'\n",
      "               '  booktitle={International Conference on Industrial, Engineering and Other Applications of Applied '\n",
      "               'Intelligent Systems},\\n'\n",
      "               '  pages={602--610},\\n'\n",
      "               '  year={2017},\\n'\n",
      "               '  organization={Springer}\\n'\n",
      "               '}',\n",
      "   'description': 'Arabic Jordanian General Tweets (AJGT) Corpus consisted of 1,800 tweets annotated as positive and '\n",
      "                  'negative. Modern Standard Arabic (MSA) or Jordanian dialect.',\n",
      "   'disabled': False,\n",
      "   'downloads': 608,\n",
      "   'gated': False,\n",
      "   'id': 'ajgt_twitter_ar',\n",
      "   'lastModified': '2023-01-25T14:26:05.000Z',\n",
      "   'likes': 2,\n",
      "   'private': False,\n",
      "   'sha': '8016dcbb32739004bd1fc36dd0bcc97381dcb7f1',\n",
      "   'siblings': [],\n",
      "   'tags': ['task_categories:text-classification', 'task_ids:sentiment-classification', 'annotations_creators:found',\n",
      "            'language_creators:found', 'multilinguality:monolingual', 'size_categories:1K<n<10K',\n",
      "            'source_datasets:original', 'language:ar', 'license:unknown', 'region:us']}\n",
      "}, DatasetInfo: { \n",
      "  {'_id': '621ffdd236468d709f181d61',\n",
      "   'author': None,\n",
      "   'cardData': None,\n",
      "   'citation': '@inproceedings{rybak-etal-2020-klej,\\n'\n",
      "               '    title = \"{KLEJ}: Comprehensive Benchmark for Polish Language Understanding\",\\n'\n",
      "               '    author = \"Rybak, Piotr and Mroczkowski, Robert and Tracz, Janusz and Gawlik, Ireneusz\",\\n'\n",
      "               '    booktitle = \"Proceedings of the 58th Annual Meeting of the Association for Computational '\n",
      "               'Linguistics\",\\n'\n",
      "               '    month = jul,\\n'\n",
      "               '    year = \"2020\",\\n'\n",
      "               '    address = \"Online\",\\n'\n",
      "               '    publisher = \"Association for Computational Linguistics\",\\n'\n",
      "               '    url = \"https://www.aclweb.org/anthology/2020.acl-main.111\",\\n'\n",
      "               '    pages = \"1191--1201\",\\n'\n",
      "               '}',\n",
      "   'description': 'Allegro Reviews is a sentiment analysis dataset, consisting of 11,588 product reviews written in '\n",
      "                  'Polish and extracted\\n'\n",
      "                  'from Allegro.pl - a popular e-commerce marketplace. Each review contains at least 50 words and has a '\n",
      "                  'rating on a scale\\n'\n",
      "                  'from one (negative review) to five (positive review).\\n'\n",
      "                  '\\n'\n",
      "                  'We recommend using the provided train/dev/test split. The ratings for the test set reviews are kept '\n",
      "                  'hidden.\\n'\n",
      "                  'You can evaluate your model using the online evaluation tool available on klejbenchmark.com.',\n",
      "   'disabled': False,\n",
      "   'downloads': 597,\n",
      "   'gated': False,\n",
      "   'id': 'allegro_reviews',\n",
      "   'lastModified': '2022-11-18T17:41:41.000Z',\n",
      "   'likes': 0,\n",
      "   'paperswithcode_id': 'allegro-reviews',\n",
      "   'private': False,\n",
      "   'sha': '640d5c0c0cf44fba49bfa7fd4d29e7feb51bde21',\n",
      "   'siblings': [],\n",
      "   'tags': ['task_categories:text-classification', 'task_ids:sentiment-scoring', 'task_ids:text-scoring',\n",
      "            'annotations_creators:found', 'language_creators:found', 'multilinguality:monolingual',\n",
      "            'size_categories:10K<n<100K', 'source_datasets:original', 'language:pl', 'license:cc-by-sa-4.0',\n",
      "            'region:us']}\n",
      "}]\n"
     ]
    }
   ],
   "source": [
    "# list all available datasets \n",
    "from huggingface_hub import list_datasets\n",
    "\n",
    "all_datasets = [dataset for dataset in list_datasets()]\n",
    "print(f\"There are {len(all_datasets)} datasets currently available on the Hub\")\n",
    "print(f\"The first 10 are: {all_datasets[:10]}\")"
   ]
  },
  {
   "cell_type": "code",
   "execution_count": 5,
   "metadata": {},
   "outputs": [
    {
     "data": {
      "application/vnd.jupyter.widget-view+json": {
       "model_id": "d5793845f77244ce9e6fa9ef69a2fa06",
       "version_major": 2,
       "version_minor": 0
      },
      "text/plain": [
       "Downloading builder script:   0%|          | 0.00/3.97k [00:00<?, ?B/s]"
      ]
     },
     "metadata": {},
     "output_type": "display_data"
    },
    {
     "data": {
      "application/vnd.jupyter.widget-view+json": {
       "model_id": "9522ae579f5b4f578d4eb69c79c73ef8",
       "version_major": 2,
       "version_minor": 0
      },
      "text/plain": [
       "Downloading metadata:   0%|          | 0.00/3.28k [00:00<?, ?B/s]"
      ]
     },
     "metadata": {},
     "output_type": "display_data"
    },
    {
     "data": {
      "application/vnd.jupyter.widget-view+json": {
       "model_id": "7c5ab066df6f4fef932b8c2152a7d916",
       "version_major": 2,
       "version_minor": 0
      },
      "text/plain": [
       "Downloading readme:   0%|          | 0.00/8.78k [00:00<?, ?B/s]"
      ]
     },
     "metadata": {},
     "output_type": "display_data"
    },
    {
     "data": {
      "application/vnd.jupyter.widget-view+json": {
       "model_id": "c9ef8e3523854f3ea5f441eaa5411cc2",
       "version_major": 2,
       "version_minor": 0
      },
      "text/plain": [
       "Downloading data files:   0%|          | 0/3 [00:00<?, ?it/s]"
      ]
     },
     "metadata": {},
     "output_type": "display_data"
    },
    {
     "data": {
      "application/vnd.jupyter.widget-view+json": {
       "model_id": "1b877ca7edf34428a3562b5edfd34d9b",
       "version_major": 2,
       "version_minor": 0
      },
      "text/plain": [
       "Downloading data:   0%|          | 0.00/592k [00:00<?, ?B/s]"
      ]
     },
     "metadata": {},
     "output_type": "display_data"
    },
    {
     "data": {
      "application/vnd.jupyter.widget-view+json": {
       "model_id": "4cf576ce042646babac3d4ef5427645d",
       "version_major": 2,
       "version_minor": 0
      },
      "text/plain": [
       "Downloading data:   0%|          | 0.00/74.0k [00:00<?, ?B/s]"
      ]
     },
     "metadata": {},
     "output_type": "display_data"
    },
    {
     "data": {
      "application/vnd.jupyter.widget-view+json": {
       "model_id": "52770176080643f3a7c558418338d059",
       "version_major": 2,
       "version_minor": 0
      },
      "text/plain": [
       "Downloading data:   0%|          | 0.00/74.9k [00:00<?, ?B/s]"
      ]
     },
     "metadata": {},
     "output_type": "display_data"
    },
    {
     "data": {
      "application/vnd.jupyter.widget-view+json": {
       "model_id": "f81126d31832482ba7a70a3671d5494d",
       "version_major": 2,
       "version_minor": 0
      },
      "text/plain": [
       "Extracting data files:   0%|          | 0/3 [00:00<?, ?it/s]"
      ]
     },
     "metadata": {},
     "output_type": "display_data"
    },
    {
     "data": {
      "application/vnd.jupyter.widget-view+json": {
       "model_id": "8d8f9b59f048403ba853a5d7c718ee9c",
       "version_major": 2,
       "version_minor": 0
      },
      "text/plain": [
       "Generating train split:   0%|          | 0/16000 [00:00<?, ? examples/s]"
      ]
     },
     "metadata": {},
     "output_type": "display_data"
    },
    {
     "data": {
      "application/vnd.jupyter.widget-view+json": {
       "model_id": "87865cee40d04ff58cc66995be96feee",
       "version_major": 2,
       "version_minor": 0
      },
      "text/plain": [
       "Generating validation split:   0%|          | 0/2000 [00:00<?, ? examples/s]"
      ]
     },
     "metadata": {},
     "output_type": "display_data"
    },
    {
     "data": {
      "application/vnd.jupyter.widget-view+json": {
       "model_id": "3c5b21cbff0a4485ad22a2d3b01ba764",
       "version_major": 2,
       "version_minor": 0
      },
      "text/plain": [
       "Generating test split:   0%|          | 0/2000 [00:00<?, ? examples/s]"
      ]
     },
     "metadata": {},
     "output_type": "display_data"
    }
   ],
   "source": [
    "from datasets import load_dataset \n",
    "\n",
    "emotions = load_dataset('emotion')"
   ]
  },
  {
   "cell_type": "code",
   "execution_count": 6,
   "metadata": {},
   "outputs": [
    {
     "data": {
      "text/plain": [
       "DatasetDict({\n",
       "    train: Dataset({\n",
       "        features: ['text', 'label'],\n",
       "        num_rows: 16000\n",
       "    })\n",
       "    validation: Dataset({\n",
       "        features: ['text', 'label'],\n",
       "        num_rows: 2000\n",
       "    })\n",
       "    test: Dataset({\n",
       "        features: ['text', 'label'],\n",
       "        num_rows: 2000\n",
       "    })\n",
       "})"
      ]
     },
     "execution_count": 6,
     "metadata": {},
     "output_type": "execute_result"
    }
   ],
   "source": [
    "emotions"
   ]
  },
  {
   "cell_type": "code",
   "execution_count": 8,
   "metadata": {},
   "outputs": [
    {
     "data": {
      "text/plain": [
       "Dataset({\n",
       "    features: ['text', 'label'],\n",
       "    num_rows: 16000\n",
       "})"
      ]
     },
     "execution_count": 8,
     "metadata": {},
     "output_type": "execute_result"
    }
   ],
   "source": [
    "train_ds = emotions['train']\n",
    "train_ds"
   ]
  },
  {
   "cell_type": "code",
   "execution_count": 10,
   "metadata": {},
   "outputs": [
    {
     "data": {
      "text/plain": [
       "16000"
      ]
     },
     "execution_count": 10,
     "metadata": {},
     "output_type": "execute_result"
    }
   ],
   "source": [
    "len(train_ds)"
   ]
  },
  {
   "cell_type": "code",
   "execution_count": 11,
   "metadata": {},
   "outputs": [
    {
     "data": {
      "text/plain": [
       "{'text': 'i didnt feel humiliated', 'label': 0}"
      ]
     },
     "execution_count": 11,
     "metadata": {},
     "output_type": "execute_result"
    }
   ],
   "source": [
    "train_ds[0]"
   ]
  },
  {
   "cell_type": "code",
   "execution_count": 18,
   "metadata": {},
   "outputs": [
    {
     "data": {
      "text/plain": [
       "['text', 'label']"
      ]
     },
     "execution_count": 18,
     "metadata": {},
     "output_type": "execute_result"
    }
   ],
   "source": [
    "train_ds.column_names"
   ]
  },
  {
   "cell_type": "code",
   "execution_count": 19,
   "metadata": {},
   "outputs": [
    {
     "name": "stdout",
     "output_type": "stream",
     "text": [
      "{'text': Value(dtype='string', id=None), 'label': ClassLabel(names=['sadness', 'joy', 'love', 'anger', 'fear', 'surprise'], id=None)}\n"
     ]
    }
   ],
   "source": [
    "print(train_ds.features)"
   ]
  },
  {
   "cell_type": "code",
   "execution_count": 20,
   "metadata": {},
   "outputs": [
    {
     "data": {
      "text/plain": [
       "{'text': ['i didnt feel humiliated',\n",
       "  'i can go from feeling so hopeless to so damned hopeful just from being around someone who cares and is awake',\n",
       "  'im grabbing a minute to post i feel greedy wrong',\n",
       "  'i am ever feeling nostalgic about the fireplace i will know that it is still on the property',\n",
       "  'i am feeling grouchy'],\n",
       " 'label': [0, 0, 3, 2, 3]}"
      ]
     },
     "execution_count": 20,
     "metadata": {},
     "output_type": "execute_result"
    }
   ],
   "source": [
    "train_ds[:5]"
   ]
  },
  {
   "cell_type": "code",
   "execution_count": 24,
   "metadata": {},
   "outputs": [
    {
     "data": {
      "text/html": [
       "<div>\n",
       "<style scoped>\n",
       "    .dataframe tbody tr th:only-of-type {\n",
       "        vertical-align: middle;\n",
       "    }\n",
       "\n",
       "    .dataframe tbody tr th {\n",
       "        vertical-align: top;\n",
       "    }\n",
       "\n",
       "    .dataframe thead th {\n",
       "        text-align: right;\n",
       "    }\n",
       "</style>\n",
       "<table border=\"1\" class=\"dataframe\">\n",
       "  <thead>\n",
       "    <tr style=\"text-align: right;\">\n",
       "      <th></th>\n",
       "      <th>text</th>\n",
       "      <th>label</th>\n",
       "    </tr>\n",
       "  </thead>\n",
       "  <tbody>\n",
       "    <tr>\n",
       "      <th>0</th>\n",
       "      <td>i didnt feel humiliated</td>\n",
       "      <td>0</td>\n",
       "    </tr>\n",
       "    <tr>\n",
       "      <th>1</th>\n",
       "      <td>i can go from feeling so hopeless to so damned...</td>\n",
       "      <td>0</td>\n",
       "    </tr>\n",
       "    <tr>\n",
       "      <th>2</th>\n",
       "      <td>im grabbing a minute to post i feel greedy wrong</td>\n",
       "      <td>3</td>\n",
       "    </tr>\n",
       "    <tr>\n",
       "      <th>3</th>\n",
       "      <td>i am ever feeling nostalgic about the fireplac...</td>\n",
       "      <td>2</td>\n",
       "    </tr>\n",
       "    <tr>\n",
       "      <th>4</th>\n",
       "      <td>i am feeling grouchy</td>\n",
       "      <td>3</td>\n",
       "    </tr>\n",
       "  </tbody>\n",
       "</table>\n",
       "</div>"
      ],
      "text/plain": [
       "                                                text  label\n",
       "0                            i didnt feel humiliated      0\n",
       "1  i can go from feeling so hopeless to so damned...      0\n",
       "2   im grabbing a minute to post i feel greedy wrong      3\n",
       "3  i am ever feeling nostalgic about the fireplac...      2\n",
       "4                               i am feeling grouchy      3"
      ]
     },
     "execution_count": 24,
     "metadata": {},
     "output_type": "execute_result"
    }
   ],
   "source": [
    "import pandas as pd \n",
    "\n",
    "emotions.set_format(type=\"pandas\")\n",
    "df = emotions[\"train\"][:]\n",
    "df.head()"
   ]
  },
  {
   "cell_type": "code",
   "execution_count": 25,
   "metadata": {},
   "outputs": [
    {
     "data": {
      "text/html": [
       "<div>\n",
       "<style scoped>\n",
       "    .dataframe tbody tr th:only-of-type {\n",
       "        vertical-align: middle;\n",
       "    }\n",
       "\n",
       "    .dataframe tbody tr th {\n",
       "        vertical-align: top;\n",
       "    }\n",
       "\n",
       "    .dataframe thead th {\n",
       "        text-align: right;\n",
       "    }\n",
       "</style>\n",
       "<table border=\"1\" class=\"dataframe\">\n",
       "  <thead>\n",
       "    <tr style=\"text-align: right;\">\n",
       "      <th></th>\n",
       "      <th>text</th>\n",
       "      <th>label</th>\n",
       "      <th>label_name</th>\n",
       "    </tr>\n",
       "  </thead>\n",
       "  <tbody>\n",
       "    <tr>\n",
       "      <th>0</th>\n",
       "      <td>i didnt feel humiliated</td>\n",
       "      <td>0</td>\n",
       "      <td>sadness</td>\n",
       "    </tr>\n",
       "    <tr>\n",
       "      <th>1</th>\n",
       "      <td>i can go from feeling so hopeless to so damned...</td>\n",
       "      <td>0</td>\n",
       "      <td>sadness</td>\n",
       "    </tr>\n",
       "    <tr>\n",
       "      <th>2</th>\n",
       "      <td>im grabbing a minute to post i feel greedy wrong</td>\n",
       "      <td>3</td>\n",
       "      <td>anger</td>\n",
       "    </tr>\n",
       "    <tr>\n",
       "      <th>3</th>\n",
       "      <td>i am ever feeling nostalgic about the fireplac...</td>\n",
       "      <td>2</td>\n",
       "      <td>love</td>\n",
       "    </tr>\n",
       "    <tr>\n",
       "      <th>4</th>\n",
       "      <td>i am feeling grouchy</td>\n",
       "      <td>3</td>\n",
       "      <td>anger</td>\n",
       "    </tr>\n",
       "  </tbody>\n",
       "</table>\n",
       "</div>"
      ],
      "text/plain": [
       "                                                text  label label_name\n",
       "0                            i didnt feel humiliated      0    sadness\n",
       "1  i can go from feeling so hopeless to so damned...      0    sadness\n",
       "2   im grabbing a minute to post i feel greedy wrong      3      anger\n",
       "3  i am ever feeling nostalgic about the fireplac...      2       love\n",
       "4                               i am feeling grouchy      3      anger"
      ]
     },
     "execution_count": 25,
     "metadata": {},
     "output_type": "execute_result"
    }
   ],
   "source": [
    "def label_int2str(row):\n",
    "    return emotions[\"train\"].features[\"label\"].int2str(row)\n",
    "\n",
    "df[\"label_name\"] = df[\"label\"].apply(label_int2str)\n",
    "df.head()"
   ]
  },
  {
   "cell_type": "code",
   "execution_count": 26,
   "metadata": {},
   "outputs": [
    {
     "data": {
      "image/png": "[encoded data removed]",
      "text/plain": [
       "<Figure size 640x480 with 1 Axes>"
      ]
     },
     "metadata": {},
     "output_type": "display_data"
    }
   ],
   "source": [
    "import matplotlib.pyplot as plt \n",
    "\n",
    "df[\"label_name\"].value_counts(ascending=True).plot.barh()\n",
    "plt.title(\"frequency of classes\")\n",
    "plt.show()"
   ]
  },
  {
   "cell_type": "code",
   "execution_count": 27,
   "metadata": {},
   "outputs": [
    {
     "data": {
      "image/png": "[encoded data removed]",
      "text/plain": [
       "<Figure size 640x480 with 1 Axes>"
      ]
     },
     "metadata": {},
     "output_type": "display_data"
    }
   ],
   "source": [
    "df[\"words per tweet\"] = df[\"text\"].str.split().apply(len)\n",
    "df.boxplot(\"words per tweet\", by=\"label_name\", grid=False, showfliers=False, color=\"black\")\n",
    "plt.suptitle(\"\")\n",
    "plt.xlabel(\"\")\n",
    "plt.show()"
   ]
  },
  {
   "cell_type": "code",
   "execution_count": 28,
   "metadata": {},
   "outputs": [],
   "source": [
    "emotions.reset_format()"
   ]
  },
  {
   "cell_type": "code",
   "execution_count": null,
   "metadata": {},
   "outputs": [],
   "source": []
  }
 ],
 "metadata": {
  "kernelspec": {
   "display_name": "env",
   "language": "python",
   "name": "python3"
  },
  "language_info": {
   "codemirror_mode": {
    "name": "ipython",
    "version": 3
   },
   "file_extension": ".py",
   "mimetype": "text/x-python",
   "name": "python",
   "nbconvert_exporter": "python",
   "pygments_lexer": "ipython3",
   "version": "3.8.10"
  },
  "orig_nbformat": 4
 },
 "nbformat": 4,
 "nbformat_minor": 2
}
